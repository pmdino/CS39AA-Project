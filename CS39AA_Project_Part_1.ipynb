{
  "nbformat": 4,
  "nbformat_minor": 0,
  "metadata": {
    "colab": {
      "provenance": [],
      "mount_file_id": "1GxKEubvBWjHRAmlFP4sxv2JkTJ-o5HHF",
      "authorship_tag": "ABX9TyPs0QYNRaNNlATAqXje32nQ",
      "include_colab_link": true
    },
    "kernelspec": {
      "name": "python3",
      "display_name": "Python 3"
    },
    "language_info": {
      "name": "python"
    }
  },
  "cells": [
    {
      "cell_type": "markdown",
      "metadata": {
        "id": "view-in-github",
        "colab_type": "text"
      },
      "source": [
        "<a href=\"https://colab.research.google.com/github/pmdino/CS39AA-Project/blob/main/CS39AA_Project_Part_1.ipynb\" target=\"_parent\"><img src=\"https://colab.research.google.com/assets/colab-badge.svg\" alt=\"Open In Colab\"/></a>"
      ]
    },
    {
      "cell_type": "markdown",
      "source": [
        "The rise of social media and online news sites has led to a huge increase in untrue news articles. Their online format allows for them to spread more rapidly and the vastness of the internet allows for them to appear the same as a reliable news article. The goal of this project is to create a NLP model to detect unreliable news articles from the title, author, and full text. In the dataset, entries are labeled with 0 as reliable and 1 as unreliable. The articles are from around the time of the 2016 US Presidential election for context."
      ],
      "metadata": {
        "id": "afrmufnxi8c8"
      }
    },
    {
      "cell_type": "code",
      "execution_count": 1,
      "metadata": {
        "id": "eiD6mEndT8Zu"
      },
      "outputs": [],
      "source": [
        "!mkdir mydata\n",
        "!cp -r /content/drive/MyDrive/data/trainnews.csv /content/mydata"
      ]
    },
    {
      "cell_type": "code",
      "source": [
        "import pandas as pd\n",
        "import numpy as np\n",
        "import matplotlib.pyplot as plt\n",
        "import seaborn as sns\n",
        "import nltk\n",
        "from nltk.corpus import stopwords\n",
        "from sklearn.feature_extraction.text import CountVectorizer\n",
        "nltk.download('stopwords')\n",
        "\n",
        "news_data = pd.read_csv(\"./mydata/trainnews.csv\")\n",
        "news_data.head()\n"
      ],
      "metadata": {
        "colab": {
          "base_uri": "https://localhost:8080/",
          "height": 242
        },
        "id": "ZMZUnxYkUKdK",
        "outputId": "5374e231-cc8e-4acb-cc8c-3e3e4d3aa9ab"
      },
      "execution_count": 2,
      "outputs": [
        {
          "output_type": "stream",
          "name": "stderr",
          "text": [
            "[nltk_data] Downloading package stopwords to /root/nltk_data...\n",
            "[nltk_data]   Unzipping corpora/stopwords.zip.\n"
          ]
        },
        {
          "output_type": "execute_result",
          "data": {
            "text/plain": [
              "   id                                              title              author  \\\n",
              "0   0  House Dem Aide: We Didn’t Even See Comey’s Let...       Darrell Lucus   \n",
              "1   1  FLYNN: Hillary Clinton, Big Woman on Campus - ...     Daniel J. Flynn   \n",
              "2   2                  Why the Truth Might Get You Fired  Consortiumnews.com   \n",
              "3   3  15 Civilians Killed In Single US Airstrike Hav...     Jessica Purkiss   \n",
              "4   4  Iranian woman jailed for fictional unpublished...      Howard Portnoy   \n",
              "\n",
              "                                                text  label  \n",
              "0  House Dem Aide: We Didn’t Even See Comey’s Let...      1  \n",
              "1  Ever get the feeling your life circles the rou...      0  \n",
              "2  Why the Truth Might Get You Fired October 29, ...      1  \n",
              "3  Videos 15 Civilians Killed In Single US Airstr...      1  \n",
              "4  Print \\nAn Iranian woman has been sentenced to...      1  "
            ],
            "text/html": [
              "\n",
              "  <div id=\"df-cb7780b8-28b7-4380-9680-fefa8041b12c\">\n",
              "    <div class=\"colab-df-container\">\n",
              "      <div>\n",
              "<style scoped>\n",
              "    .dataframe tbody tr th:only-of-type {\n",
              "        vertical-align: middle;\n",
              "    }\n",
              "\n",
              "    .dataframe tbody tr th {\n",
              "        vertical-align: top;\n",
              "    }\n",
              "\n",
              "    .dataframe thead th {\n",
              "        text-align: right;\n",
              "    }\n",
              "</style>\n",
              "<table border=\"1\" class=\"dataframe\">\n",
              "  <thead>\n",
              "    <tr style=\"text-align: right;\">\n",
              "      <th></th>\n",
              "      <th>id</th>\n",
              "      <th>title</th>\n",
              "      <th>author</th>\n",
              "      <th>text</th>\n",
              "      <th>label</th>\n",
              "    </tr>\n",
              "  </thead>\n",
              "  <tbody>\n",
              "    <tr>\n",
              "      <th>0</th>\n",
              "      <td>0</td>\n",
              "      <td>House Dem Aide: We Didn’t Even See Comey’s Let...</td>\n",
              "      <td>Darrell Lucus</td>\n",
              "      <td>House Dem Aide: We Didn’t Even See Comey’s Let...</td>\n",
              "      <td>1</td>\n",
              "    </tr>\n",
              "    <tr>\n",
              "      <th>1</th>\n",
              "      <td>1</td>\n",
              "      <td>FLYNN: Hillary Clinton, Big Woman on Campus - ...</td>\n",
              "      <td>Daniel J. Flynn</td>\n",
              "      <td>Ever get the feeling your life circles the rou...</td>\n",
              "      <td>0</td>\n",
              "    </tr>\n",
              "    <tr>\n",
              "      <th>2</th>\n",
              "      <td>2</td>\n",
              "      <td>Why the Truth Might Get You Fired</td>\n",
              "      <td>Consortiumnews.com</td>\n",
              "      <td>Why the Truth Might Get You Fired October 29, ...</td>\n",
              "      <td>1</td>\n",
              "    </tr>\n",
              "    <tr>\n",
              "      <th>3</th>\n",
              "      <td>3</td>\n",
              "      <td>15 Civilians Killed In Single US Airstrike Hav...</td>\n",
              "      <td>Jessica Purkiss</td>\n",
              "      <td>Videos 15 Civilians Killed In Single US Airstr...</td>\n",
              "      <td>1</td>\n",
              "    </tr>\n",
              "    <tr>\n",
              "      <th>4</th>\n",
              "      <td>4</td>\n",
              "      <td>Iranian woman jailed for fictional unpublished...</td>\n",
              "      <td>Howard Portnoy</td>\n",
              "      <td>Print \\nAn Iranian woman has been sentenced to...</td>\n",
              "      <td>1</td>\n",
              "    </tr>\n",
              "  </tbody>\n",
              "</table>\n",
              "</div>\n",
              "      <button class=\"colab-df-convert\" onclick=\"convertToInteractive('df-cb7780b8-28b7-4380-9680-fefa8041b12c')\"\n",
              "              title=\"Convert this dataframe to an interactive table.\"\n",
              "              style=\"display:none;\">\n",
              "        \n",
              "  <svg xmlns=\"http://www.w3.org/2000/svg\" height=\"24px\"viewBox=\"0 0 24 24\"\n",
              "       width=\"24px\">\n",
              "    <path d=\"M0 0h24v24H0V0z\" fill=\"none\"/>\n",
              "    <path d=\"M18.56 5.44l.94 2.06.94-2.06 2.06-.94-2.06-.94-.94-2.06-.94 2.06-2.06.94zm-11 1L8.5 8.5l.94-2.06 2.06-.94-2.06-.94L8.5 2.5l-.94 2.06-2.06.94zm10 10l.94 2.06.94-2.06 2.06-.94-2.06-.94-.94-2.06-.94 2.06-2.06.94z\"/><path d=\"M17.41 7.96l-1.37-1.37c-.4-.4-.92-.59-1.43-.59-.52 0-1.04.2-1.43.59L10.3 9.45l-7.72 7.72c-.78.78-.78 2.05 0 2.83L4 21.41c.39.39.9.59 1.41.59.51 0 1.02-.2 1.41-.59l7.78-7.78 2.81-2.81c.8-.78.8-2.07 0-2.86zM5.41 20L4 18.59l7.72-7.72 1.47 1.35L5.41 20z\"/>\n",
              "  </svg>\n",
              "      </button>\n",
              "      \n",
              "  <style>\n",
              "    .colab-df-container {\n",
              "      display:flex;\n",
              "      flex-wrap:wrap;\n",
              "      gap: 12px;\n",
              "    }\n",
              "\n",
              "    .colab-df-convert {\n",
              "      background-color: #E8F0FE;\n",
              "      border: none;\n",
              "      border-radius: 50%;\n",
              "      cursor: pointer;\n",
              "      display: none;\n",
              "      fill: #1967D2;\n",
              "      height: 32px;\n",
              "      padding: 0 0 0 0;\n",
              "      width: 32px;\n",
              "    }\n",
              "\n",
              "    .colab-df-convert:hover {\n",
              "      background-color: #E2EBFA;\n",
              "      box-shadow: 0px 1px 2px rgba(60, 64, 67, 0.3), 0px 1px 3px 1px rgba(60, 64, 67, 0.15);\n",
              "      fill: #174EA6;\n",
              "    }\n",
              "\n",
              "    [theme=dark] .colab-df-convert {\n",
              "      background-color: #3B4455;\n",
              "      fill: #D2E3FC;\n",
              "    }\n",
              "\n",
              "    [theme=dark] .colab-df-convert:hover {\n",
              "      background-color: #434B5C;\n",
              "      box-shadow: 0px 1px 3px 1px rgba(0, 0, 0, 0.15);\n",
              "      filter: drop-shadow(0px 1px 2px rgba(0, 0, 0, 0.3));\n",
              "      fill: #FFFFFF;\n",
              "    }\n",
              "  </style>\n",
              "\n",
              "      <script>\n",
              "        const buttonEl =\n",
              "          document.querySelector('#df-cb7780b8-28b7-4380-9680-fefa8041b12c button.colab-df-convert');\n",
              "        buttonEl.style.display =\n",
              "          google.colab.kernel.accessAllowed ? 'block' : 'none';\n",
              "\n",
              "        async function convertToInteractive(key) {\n",
              "          const element = document.querySelector('#df-cb7780b8-28b7-4380-9680-fefa8041b12c');\n",
              "          const dataTable =\n",
              "            await google.colab.kernel.invokeFunction('convertToInteractive',\n",
              "                                                     [key], {});\n",
              "          if (!dataTable) return;\n",
              "\n",
              "          const docLinkHtml = 'Like what you see? Visit the ' +\n",
              "            '<a target=\"_blank\" href=https://colab.research.google.com/notebooks/data_table.ipynb>data table notebook</a>'\n",
              "            + ' to learn more about interactive tables.';\n",
              "          element.innerHTML = '';\n",
              "          dataTable['output_type'] = 'display_data';\n",
              "          await google.colab.output.renderOutput(dataTable, element);\n",
              "          const docLink = document.createElement('div');\n",
              "          docLink.innerHTML = docLinkHtml;\n",
              "          element.appendChild(docLink);\n",
              "        }\n",
              "      </script>\n",
              "    </div>\n",
              "  </div>\n",
              "  "
            ]
          },
          "metadata": {},
          "execution_count": 2
        }
      ]
    },
    {
      "cell_type": "code",
      "source": [
        "print(stopwords.words('english'))"
      ],
      "metadata": {
        "colab": {
          "base_uri": "https://localhost:8080/"
        },
        "id": "C3BV4m0BQmoL",
        "outputId": "ff9f2e9a-6624-4cf9-eaa6-8a270b84b5bc"
      },
      "execution_count": 3,
      "outputs": [
        {
          "output_type": "stream",
          "name": "stdout",
          "text": [
            "['i', 'me', 'my', 'myself', 'we', 'our', 'ours', 'ourselves', 'you', \"you're\", \"you've\", \"you'll\", \"you'd\", 'your', 'yours', 'yourself', 'yourselves', 'he', 'him', 'his', 'himself', 'she', \"she's\", 'her', 'hers', 'herself', 'it', \"it's\", 'its', 'itself', 'they', 'them', 'their', 'theirs', 'themselves', 'what', 'which', 'who', 'whom', 'this', 'that', \"that'll\", 'these', 'those', 'am', 'is', 'are', 'was', 'were', 'be', 'been', 'being', 'have', 'has', 'had', 'having', 'do', 'does', 'did', 'doing', 'a', 'an', 'the', 'and', 'but', 'if', 'or', 'because', 'as', 'until', 'while', 'of', 'at', 'by', 'for', 'with', 'about', 'against', 'between', 'into', 'through', 'during', 'before', 'after', 'above', 'below', 'to', 'from', 'up', 'down', 'in', 'out', 'on', 'off', 'over', 'under', 'again', 'further', 'then', 'once', 'here', 'there', 'when', 'where', 'why', 'how', 'all', 'any', 'both', 'each', 'few', 'more', 'most', 'other', 'some', 'such', 'no', 'nor', 'not', 'only', 'own', 'same', 'so', 'than', 'too', 'very', 's', 't', 'can', 'will', 'just', 'don', \"don't\", 'should', \"should've\", 'now', 'd', 'll', 'm', 'o', 're', 've', 'y', 'ain', 'aren', \"aren't\", 'couldn', \"couldn't\", 'didn', \"didn't\", 'doesn', \"doesn't\", 'hadn', \"hadn't\", 'hasn', \"hasn't\", 'haven', \"haven't\", 'isn', \"isn't\", 'ma', 'mightn', \"mightn't\", 'mustn', \"mustn't\", 'needn', \"needn't\", 'shan', \"shan't\", 'shouldn', \"shouldn't\", 'wasn', \"wasn't\", 'weren', \"weren't\", 'won', \"won't\", 'wouldn', \"wouldn't\"]\n"
          ]
        }
      ]
    },
    {
      "cell_type": "code",
      "source": [
        "news_data.shape"
      ],
      "metadata": {
        "colab": {
          "base_uri": "https://localhost:8080/"
        },
        "id": "Ry3BHeyHU2Jg",
        "outputId": "a43a316a-fe02-47e5-dab6-5d55a974ba38"
      },
      "execution_count": 4,
      "outputs": [
        {
          "output_type": "execute_result",
          "data": {
            "text/plain": [
              "(20800, 5)"
            ]
          },
          "metadata": {},
          "execution_count": 4
        }
      ]
    },
    {
      "cell_type": "code",
      "source": [
        "news_data.isnull().sum()"
      ],
      "metadata": {
        "colab": {
          "base_uri": "https://localhost:8080/"
        },
        "id": "FkYIsR8qU4wt",
        "outputId": "d7422c18-8779-4587-92ef-9beb7d560cb1"
      },
      "execution_count": 5,
      "outputs": [
        {
          "output_type": "execute_result",
          "data": {
            "text/plain": [
              "id           0\n",
              "title      558\n",
              "author    1957\n",
              "text        39\n",
              "label        0\n",
              "dtype: int64"
            ]
          },
          "metadata": {},
          "execution_count": 5
        }
      ]
    },
    {
      "cell_type": "code",
      "source": [
        "news_data = news_data.fillna('')\n",
        "\n",
        "news_data.isnull().sum()"
      ],
      "metadata": {
        "colab": {
          "base_uri": "https://localhost:8080/"
        },
        "id": "RSUEJBPEPK5b",
        "outputId": "467cb1a6-fd62-4d7c-9d2a-840237af6adf"
      },
      "execution_count": 6,
      "outputs": [
        {
          "output_type": "execute_result",
          "data": {
            "text/plain": [
              "id        0\n",
              "title     0\n",
              "author    0\n",
              "text      0\n",
              "label     0\n",
              "dtype: int64"
            ]
          },
          "metadata": {},
          "execution_count": 6
        }
      ]
    },
    {
      "cell_type": "code",
      "source": [
        "news_data['word_count'] = news_data['text'].apply(lambda x: len(str(x).split()))"
      ],
      "metadata": {
        "id": "jM8ot38mfSdU"
      },
      "execution_count": 7,
      "outputs": []
    },
    {
      "cell_type": "markdown",
      "source": [
        "Word Count Histogram"
      ],
      "metadata": {
        "id": "ibnbHk3Aco_e"
      }
    },
    {
      "cell_type": "code",
      "source": [
        "news_data[['word_count']].hist(bins=500, figsize=(15, 10))"
      ],
      "metadata": {
        "colab": {
          "base_uri": "https://localhost:8080/",
          "height": 643
        },
        "id": "ZEqA3rtCfdep",
        "outputId": "6f0389ab-cf18-4099-f2a7-fa4873ae7b84"
      },
      "execution_count": 8,
      "outputs": [
        {
          "output_type": "execute_result",
          "data": {
            "text/plain": [
              "array([[<matplotlib.axes._subplots.AxesSubplot object at 0x7f86ce4eeb50>]],\n",
              "      dtype=object)"
            ]
          },
          "metadata": {},
          "execution_count": 8
        },
        {
          "output_type": "display_data",
          "data": {
            "text/plain": [
              "<Figure size 1080x720 with 1 Axes>"
            ],
            "image/png": "[encoded data removed]"
          },
          "metadata": {
            "needs_background": "light"
          }
        }
      ]
    },
    {
      "cell_type": "code",
      "source": [
        "plt.figure(figsize=(8, 6))\n",
        "sns.countplot(x='label', data=news_data)\n",
        "plt.xlabel(\"Rating\")\n",
        "plt.title(\"Number of data of each label\")\n",
        "plt.show()"
      ],
      "metadata": {
        "colab": {
          "base_uri": "https://localhost:8080/",
          "height": 404
        },
        "id": "4cJE4MODgXIf",
        "outputId": "78db690f-db74-434a-b793-6b30f111476b"
      },
      "execution_count": 10,
      "outputs": [
        {
          "output_type": "display_data",
          "data": {
            "text/plain": [
              "<Figure size 576x432 with 1 Axes>"
            ],
            "image/png": "[encoded data removed]"
          },
          "metadata": {
            "needs_background": "light"
          }
        }
      ]
    },
    {
      "cell_type": "code",
      "source": [
        "plt.figure(figsize=(10, 6))\n",
        "sns.pointplot(x = \"label\", y = \"word_count\", data = news_data)\n",
        "plt.xlabel(\"Label\")\n",
        "plt.ylabel(\"Word Count\")\n",
        "plt.title(\"Label vs Word Count\")\n",
        "plt.show()"
      ],
      "metadata": {
        "colab": {
          "base_uri": "https://localhost:8080/",
          "height": 404
        },
        "id": "7z7ZaemOg3ie",
        "outputId": "bdd249c7-f885-4792-f476-d9c87aaf3d38"
      },
      "execution_count": 11,
      "outputs": [
        {
          "output_type": "display_data",
          "data": {
            "text/plain": [
              "<Figure size 720x432 with 1 Axes>"
            ],
            "image/png": "[encoded data removed]"
          },
          "metadata": {
            "needs_background": "light"
          }
        }
      ]
    },
    {
      "cell_type": "code",
      "source": [
        "dfFake = news_data.loc[news_data['label'] == 1, 'text']\n",
        "dfTrue = news_data.loc[news_data['label'] == 0, 'text']"
      ],
      "metadata": {
        "id": "jd2xRtsgGpa8"
      },
      "execution_count": 12,
      "outputs": []
    },
    {
      "cell_type": "markdown",
      "source": [
        "Most common words in reliable articles"
      ],
      "metadata": {
        "id": "BUzWwPLiHljN"
      }
    },
    {
      "cell_type": "code",
      "source": [
        "def get_top_n_words(corpus, n=None):\n",
        "    vec = CountVectorizer(stop_words = 'english').fit(corpus)\n",
        "    bag_of_words = vec.transform(corpus)\n",
        "    sum_words = bag_of_words.sum(axis=0) \n",
        "    words_freq = [(word, sum_words[0, idx]) for word, idx in vec.vocabulary_.items()]\n",
        "    words_freq =sorted(words_freq, key = lambda x: x[1], reverse=True)\n",
        "    return words_freq[:n]\n",
        "common_words_real = get_top_n_words(dfTrue, 20)\n",
        "for word, freq in common_words_real:\n",
        "    print(word, freq)\n",
        "df2 = pd.DataFrame(common_words_real, columns = ['word' , 'count'])"
      ],
      "metadata": {
        "colab": {
          "base_uri": "https://localhost:8080/"
        },
        "id": "P6Gph9m6FMBY",
        "outputId": "8a15e110-2c91-4da0-ea36-ae14544a3ee2"
      },
      "execution_count": 13,
      "outputs": [
        {
          "output_type": "stream",
          "name": "stdout",
          "text": [
            "said 68179\n",
            "mr 64571\n",
            "trump 36111\n",
            "people 19942\n",
            "new 19661\n",
            "president 16829\n",
            "like 16022\n",
            "ms 12395\n",
            "time 11879\n",
            "just 11576\n",
            "state 11483\n",
            "years 11401\n",
            "states 11058\n",
            "united 10194\n",
            "year 10185\n",
            "news 9421\n",
            "did 9278\n",
            "american 9094\n",
            "government 8655\n",
            "house 8343\n"
          ]
        }
      ]
    },
    {
      "cell_type": "markdown",
      "source": [
        "Most common words in unreliable articles"
      ],
      "metadata": {
        "id": "y5iCfiq8Hqls"
      }
    },
    {
      "cell_type": "code",
      "source": [
        "common_words_fake = get_top_n_words(dfFake, 20)\n",
        "for word, freq in common_words_fake:\n",
        "    print(word, freq)\n",
        "df2 = pd.DataFrame(common_words_fake, columns = ['word' , 'count'])"
      ],
      "metadata": {
        "colab": {
          "base_uri": "https://localhost:8080/"
        },
        "id": "Y-Ki35NpHSJ5",
        "outputId": "e12c86b7-962d-4c28-a733-8672617814fd"
      },
      "execution_count": 14,
      "outputs": [
        {
          "output_type": "stream",
          "name": "stdout",
          "text": [
            "trump 20147\n",
            "clinton 19254\n",
            "people 16598\n",
            "hillary 12762\n",
            "said 11875\n",
            "just 10488\n",
            "new 10395\n",
            "like 10319\n",
            "time 9235\n",
            "world 9180\n",
            "state 8906\n",
            "2016 8548\n",
            "president 8508\n",
            "election 8263\n",
            "government 8145\n",
            "war 7625\n",
            "obama 7547\n",
            "american 6976\n",
            "russia 6742\n",
            "states 6567\n"
          ]
        }
      ]
    },
    {
      "cell_type": "markdown",
      "source": [
        "Most common bigrams in reliable articles"
      ],
      "metadata": {
        "id": "16odZ7gFc0eq"
      }
    },
    {
      "cell_type": "code",
      "source": [
        "def get_top_n_bigram(corpus, n=None):\n",
        "    vec = CountVectorizer(ngram_range=(2, 2), stop_words='english').fit(corpus)\n",
        "    bag_of_words = vec.transform(corpus)\n",
        "    sum_words = bag_of_words.sum(axis=0) \n",
        "    words_freq = [(word, sum_words[0, idx]) for word, idx in vec.vocabulary_.items()]\n",
        "    words_freq =sorted(words_freq, key = lambda x: x[1], reverse=True)\n",
        "    return words_freq[:n]\n",
        "common_words_real = get_top_n_bigram(dfTrue, 20)\n",
        "for word, freq in common_words_real:\n",
        "    print(word, freq)\n",
        "df4 = pd.DataFrame(common_words_real, columns = ['ReviewText' , 'count'])"
      ],
      "metadata": {
        "colab": {
          "base_uri": "https://localhost:8080/"
        },
        "id": "QAczV2XJJIt0",
        "outputId": "7690b173-9c01-4dab-9b93-9378dd661c39"
      },
      "execution_count": 15,
      "outputs": [
        {
          "output_type": "stream",
          "name": "stdout",
          "text": [
            "mr trump 16948\n",
            "united states 8417\n",
            "new york 6521\n",
            "donald trump 4490\n",
            "mrs clinton 4008\n",
            "white house 3931\n",
            "said mr 2654\n",
            "mr obama 2462\n",
            "president trump 2294\n",
            "york times 1981\n",
            "islamic state 1969\n",
            "breitbart news 1792\n",
            "hillary clinton 1773\n",
            "years ago 1584\n",
            "trump said 1560\n",
            "obama administration 1415\n",
            "president obama 1365\n",
            "national security 1363\n",
            "trump administration 1342\n",
            "los angeles 1325\n"
          ]
        }
      ]
    },
    {
      "cell_type": "markdown",
      "source": [
        "Most common bigrams in unreliable articles"
      ],
      "metadata": {
        "id": "qCkxHPu8c37H"
      }
    },
    {
      "cell_type": "code",
      "source": [
        "common_words_fake = get_top_n_bigram(dfFake, 20)\n",
        "for word, freq in common_words_fake:\n",
        "    print(word, freq)\n",
        "df4 = pd.DataFrame(common_words_fake, columns = ['ReviewText' , 'count'])"
      ],
      "metadata": {
        "colab": {
          "base_uri": "https://localhost:8080/"
        },
        "id": "n7TvICrKJTHL",
        "outputId": "02cb05bc-0916-4131-e3fd-44dbee8c7f8d"
      },
      "execution_count": 16,
      "outputs": [
        {
          "output_type": "stream",
          "name": "stdout",
          "text": [
            "hillary clinton 6802\n",
            "donald trump 4972\n",
            "united states 3954\n",
            "white house 2152\n",
            "new york 2060\n",
            "clinton campaign 1377\n",
            "november 2016 1193\n",
            "secretary state 1180\n",
            "clinton foundation 1156\n",
            "foreign policy 1024\n",
            "saudi arabia 941\n",
            "american people 940\n",
            "mainstream media 925\n",
            "barack obama 915\n",
            "year old 909\n",
            "middle east 863\n",
            "wall street 858\n",
            "presidential election 853\n",
            "law enforcement 834\n",
            "president obama 822\n"
          ]
        }
      ]
    },
    {
      "cell_type": "markdown",
      "source": [
        "Most common trigrams in reliable articles"
      ],
      "metadata": {
        "id": "e1IDDfGNc-MF"
      }
    },
    {
      "cell_type": "code",
      "source": [
        "def get_top_n_trigram(corpus, n=None):\n",
        "    vec = CountVectorizer(ngram_range=(3, 3), stop_words='english').fit(corpus)\n",
        "    bag_of_words = vec.transform(corpus)\n",
        "    sum_words = bag_of_words.sum(axis=0) \n",
        "    words_freq = [(word, sum_words[0, idx]) for word, idx in vec.vocabulary_.items()]\n",
        "    words_freq =sorted(words_freq, key = lambda x: x[1], reverse=True)\n",
        "    return words_freq[:n]\n",
        "common_words_real = get_top_n_trigram(dfTrue, 20)\n",
        "for word, freq in common_words_real:\n",
        "    print(word, freq)\n",
        "df4 = pd.DataFrame(common_words_real, columns = ['ReviewText' , 'count'])"
      ],
      "metadata": {
        "colab": {
          "base_uri": "https://localhost:8080/"
        },
        "id": "N_Qf8ox0JoLi",
        "outputId": "804a8dbf-dba5-4912-f017-7a15b85208ca"
      },
      "execution_count": 17,
      "outputs": [
        {
          "output_type": "stream",
          "name": "stdout",
          "text": [
            "new york times 1980\n",
            "president donald trump 1171\n",
            "mr trump said 1027\n",
            "new york city 763\n",
            "affordable care act 533\n",
            "said mr trump 506\n",
            "president barack obama 505\n",
            "national security adviser 348\n",
            "world war ii 344\n",
            "mr trump campaign 311\n",
            "breitbart news daily 309\n",
            "president united states 305\n",
            "president vladimir putin 280\n",
            "speaker paul ryan 273\n",
            "mr trump mr 265\n",
            "department homeland security 262\n",
            "white house press 262\n",
            "president george bush 255\n",
            "follow pam key 238\n",
            "pam key twitter 238\n"
          ]
        }
      ]
    },
    {
      "cell_type": "markdown",
      "source": [
        "Most common trigrams in unreliable articles"
      ],
      "metadata": {
        "id": "VhwekhHadBJ0"
      }
    },
    {
      "cell_type": "code",
      "source": [
        "common_words_fake = get_top_n_trigram(dfFake, 20)\n",
        "for word, freq in common_words_fake:\n",
        "    print(word, freq)\n",
        "df4 = pd.DataFrame(common_words_fake, columns = ['ReviewText' , 'count'])"
      ],
      "metadata": {
        "colab": {
          "base_uri": "https://localhost:8080/"
        },
        "id": "j75TPDsHJzms",
        "outputId": "e14a4b18-8333-4377-884b-5e3606fb3705"
      },
      "execution_count": 18,
      "outputs": [
        {
          "output_type": "stream",
          "name": "stdout",
          "text": [
            "new york times 757\n",
            "pic twitter com 577\n",
            "october 27 2016 528\n",
            "october 28 2016 505\n",
            "october 26 2016 417\n",
            "director james comey 403\n",
            "fbi director james 376\n",
            "dakota access pipeline 352\n",
            "president united states 341\n",
            "president barack obama 262\n",
            "private email server 258\n",
            "hillary clinton campaign 256\n",
            "october 29 2016 248\n",
            "black lives matter 238\n",
            "investigation hillary clinton 229\n",
            "standing rock sioux 224\n",
            "new york city 215\n",
            "nominee donald trump 212\n",
            "wall street journal 212\n",
            "president vladimir putin 207\n"
          ]
        }
      ]
    }
  ]
}